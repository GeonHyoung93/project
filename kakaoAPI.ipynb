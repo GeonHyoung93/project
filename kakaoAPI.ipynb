{
 "cells": [
  {
   "cell_type": "code",
   "execution_count": 13,
   "id": "c1a96e13-eb16-4b04-bf58-f5b93d07c428",
   "metadata": {},
   "outputs": [],
   "source": [
    "import pandas as pd\n",
    "import numpy as np\n",
    "import requests"
   ]
  },
  {
   "cell_type": "code",
   "execution_count": null,
   "id": "7987b9c3-5686-4fac-8f07-a9e59192d0cc",
   "metadata": {},
   "outputs": [],
   "source": [
    "## 카카오 맵 APIfh 반경 내 건물검색"
   ]
  },
  {
   "cell_type": "markdown",
   "id": "9cd35fdb-8eaa-4227-af22-0bdb2725aee8",
   "metadata": {},
   "source": [
    "<img src='constant.png'>"
   ]
  },
  {
   "cell_type": "code",
   "execution_count": 17,
   "id": "bddece22-4b7b-4cd2-9fa4-9faf98c24ca9",
   "metadata": {},
   "outputs": [
    {
     "data": {
      "text/plain": [
       "615"
      ]
     },
     "execution_count": 17,
     "metadata": {},
     "output_type": "execute_result"
    }
   ],
   "source": [
    "\n",
    "url = 'https://dapi.kakao.com/v2/local/search/keyword.json'\n",
    "\n",
    "\n",
    "# params = {'query' : '원하는 검색어', 'x' : 경도, 'y' : 위도, 'radius' : 반경(m), 'category_group_code' : '카테고리'}\n",
    "# seoul = (37.566, 126.9784)\n",
    "params = {'query' : '어린이집, 유치원', 'x' : 37.566, 'y' : 126.9784, 'radius' : 10000, 'category_group_code' : 'PS3'}\n",
    "\n",
    "\n",
    "# headers = {\"Authorization\": \"KakaoAK 카카오 맵 API의 REST API\"}\n",
    "headers = {\"Authorization\": \"KakaoAK 96914a8570e34167ed81235fd76e48ee\"}\n",
    "\n",
    "\n",
    "total = requests.get(url, params=params, headers=headers).json()['meta']['total_count']\n",
    "\n",
    "\n",
    "# places는 검색이 잘 되었는지 체크하는 용도. places에는 45개 데이터가 한계임\n",
    "# 페이지 수를 늘려도, 한 페이지 안에서 보여줄 수 있는 한계치를 아무리 높혀도 45개 이상 안 보여줌\n",
    "# 페이지 설정 안한상태\n",
    "places = requests.get(url, params=params, headers=headers).json()['documents']\n",
    "\n",
    "\n",
    "# 원하는 개수\n",
    "total"
   ]
  },
  {
   "cell_type": "code",
   "execution_count": null,
   "id": "504d0388-a2fa-41eb-af14-f6937b0bbbf9",
   "metadata": {},
   "outputs": [],
   "source": []
  },
  {
   "cell_type": "code",
   "execution_count": null,
   "id": "08c8393b-2e15-47bf-8c5c-20f304624ee1",
   "metadata": {},
   "outputs": [],
   "source": []
  },
  {
   "cell_type": "code",
   "execution_count": null,
   "id": "0e726a28-1bf6-4dd5-aa59-f21c00c05436",
   "metadata": {},
   "outputs": [],
   "source": []
  }
 ],
 "metadata": {
  "kernelspec": {
   "display_name": "Python 3",
   "language": "python",
   "name": "python3"
  },
  "language_info": {
   "codemirror_mode": {
    "name": "ipython",
    "version": 3
   },
   "file_extension": ".py",
   "mimetype": "text/x-python",
   "name": "python",
   "nbconvert_exporter": "python",
   "pygments_lexer": "ipython3",
   "version": "3.7.10"
  }
 },
 "nbformat": 4,
 "nbformat_minor": 5
}
