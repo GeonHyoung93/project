{
 "cells": [
  {
   "cell_type": "code",
   "execution_count": 1,
   "id": "bad4f358-41fd-4115-b138-3b4bab52b529",
   "metadata": {},
   "outputs": [],
   "source": [
    "import pandas as pd\n",
    "import folium                              # 지도 기반 데이터 시각화\n",
    "from geopy.distance import great_circle    # 좌표 간 거리를 km 단위로 변환"
   ]
  },
  {
   "cell_type": "code",
   "execution_count": 2,
   "id": "ac544a43-dc25-4424-8226-611a98995da3",
   "metadata": {
    "tags": []
   },
   "outputs": [
    {
     "data": {
      "text/html": [
       "<div>\n",
       "<style scoped>\n",
       "    .dataframe tbody tr th:only-of-type {\n",
       "        vertical-align: middle;\n",
       "    }\n",
       "\n",
       "    .dataframe tbody tr th {\n",
       "        vertical-align: top;\n",
       "    }\n",
       "\n",
       "    .dataframe thead th {\n",
       "        text-align: right;\n",
       "    }\n",
       "</style>\n",
       "<table border=\"1\" class=\"dataframe\">\n",
       "  <thead>\n",
       "    <tr style=\"text-align: right;\">\n",
       "      <th></th>\n",
       "      <th>번호</th>\n",
       "      <th>k-아파트코드</th>\n",
       "      <th>k-아파트명</th>\n",
       "      <th>k-단지분류(아파트,주상복합등등)</th>\n",
       "      <th>kapt도로명주소</th>\n",
       "      <th>주소(시도)k-apt주소split</th>\n",
       "      <th>주소(시군구)</th>\n",
       "      <th>주소(읍면동)</th>\n",
       "      <th>나머지주소</th>\n",
       "      <th>주소(도로명)</th>\n",
       "      <th>...</th>\n",
       "      <th>청소비관리형태</th>\n",
       "      <th>건축면적</th>\n",
       "      <th>주차대수</th>\n",
       "      <th>기타/의무/임대/임의=1/2/3/4</th>\n",
       "      <th>단지승인일</th>\n",
       "      <th>사용허가여부</th>\n",
       "      <th>관리비 업로드</th>\n",
       "      <th>좌표X</th>\n",
       "      <th>좌표Y</th>\n",
       "      <th>단지신청일</th>\n",
       "    </tr>\n",
       "  </thead>\n",
       "  <tbody>\n",
       "    <tr>\n",
       "      <th>0</th>\n",
       "      <td>1</td>\n",
       "      <td>A15679103</td>\n",
       "      <td>우리유앤미</td>\n",
       "      <td>아파트</td>\n",
       "      <td>서울특별시 동작구 서달로 83</td>\n",
       "      <td>서울</td>\n",
       "      <td>동작구</td>\n",
       "      <td>흑석동</td>\n",
       "      <td>우리유앤미아파트</td>\n",
       "      <td>서달로</td>\n",
       "      <td>...</td>\n",
       "      <td>위탁</td>\n",
       "      <td>1773.56</td>\n",
       "      <td>223.0</td>\n",
       "      <td>의무</td>\n",
       "      <td>2018-04-10 15:59:42.0</td>\n",
       "      <td>Y</td>\n",
       "      <td>N</td>\n",
       "      <td>126.959639</td>\n",
       "      <td>37.500668</td>\n",
       "      <td>2013-03-07 09:46:59.0</td>\n",
       "    </tr>\n",
       "  </tbody>\n",
       "</table>\n",
       "<p>1 rows × 47 columns</p>\n",
       "</div>"
      ],
      "text/plain": [
       "   번호    k-아파트코드 k-아파트명 k-단지분류(아파트,주상복합등등)         kapt도로명주소  \\\n",
       "0   1  A15679103  우리유앤미                아파트  서울특별시 동작구 서달로 83   \n",
       "\n",
       "  주소(시도)k-apt주소split 주소(시군구) 주소(읍면동)     나머지주소 주소(도로명)  ... 청소비관리형태     건축면적  \\\n",
       "0                 서울     동작구     흑석동  우리유앤미아파트     서달로  ...      위탁  1773.56   \n",
       "\n",
       "    주차대수  기타/의무/임대/임의=1/2/3/4                  단지승인일 사용허가여부 관리비 업로드  \\\n",
       "0  223.0                   의무  2018-04-10 15:59:42.0      Y       N   \n",
       "\n",
       "          좌표X        좌표Y                  단지신청일  \n",
       "0  126.959639  37.500668  2013-03-07 09:46:59.0  \n",
       "\n",
       "[1 rows x 47 columns]"
      ]
     },
     "execution_count": 2,
     "metadata": {},
     "output_type": "execute_result"
    }
   ],
   "source": [
    "apt = pd.read_csv('data/seoul_apt.csv', sep=',', encoding='euc-kr')\n",
    "apt.head(1)"
   ]
  },
  {
   "cell_type": "code",
   "execution_count": 3,
   "id": "ac5a08c2-250f-4236-a91a-a099f5c10cd4",
   "metadata": {},
   "outputs": [],
   "source": [
    "find_apt = \"구로한신1차\"   # 검색할 아파트"
   ]
  },
  {
   "cell_type": "code",
   "execution_count": 4,
   "id": "7eb41044-4b44-4a9c-8f0e-f304cad302a6",
   "metadata": {},
   "outputs": [
    {
     "data": {
      "text/plain": [
       "[37.4963839, 126.8737607]"
      ]
     },
     "execution_count": 4,
     "metadata": {},
     "output_type": "execute_result"
    }
   ],
   "source": [
    "target = apt[apt['k-아파트명'].str.contains(find_apt)]\n",
    "lat = float(target['좌표Y'])\n",
    "lon = float(target['좌표X'])\n",
    "loc = [lat, lon]\n",
    "loc"
   ]
  },
  {
   "cell_type": "code",
   "execution_count": 5,
   "id": "20b9dc34-2598-4164-ba33-641e3f1d63b6",
   "metadata": {
    "tags": []
   },
   "outputs": [
    {
     "data": {
      "text/html": [
       "<div style=\"width:100%;\"><div style=\"position:relative;width:100%;height:0;padding-bottom:60%;\"><span style=\"color:#565656\">Make this Notebook Trusted to load map: File -> Trust Notebook</span><iframe src=\"about:blank\" style=\"position:absolute;width:100%;height:100%;left:0;top:0;border:none !important;\" data-html=%3C%21DOCTYPE%20html%3E%0A%3Chead%3E%20%20%20%20%0A%20%20%20%20%3Cmeta%20http-equiv%3D%22content-type%22%20content%3D%22text/html%3B%20charset%3DUTF-8%22%20/%3E%0A%20%20%20%20%0A%20%20%20%20%20%20%20%20%3Cscript%3E%0A%20%20%20%20%20%20%20%20%20%20%20%20L_NO_TOUCH%20%3D%20false%3B%0A%20%20%20%20%20%20%20%20%20%20%20%20L_DISABLE_3D%20%3D%20false%3B%0A%20%20%20%20%20%20%20%20%3C/script%3E%0A%20%20%20%20%0A%20%20%20%20%3Cstyle%3Ehtml%2C%20body%20%7Bwidth%3A%20100%25%3Bheight%3A%20100%25%3Bmargin%3A%200%3Bpadding%3A%200%3B%7D%3C/style%3E%0A%20%20%20%20%3Cstyle%3E%23map%20%7Bposition%3Aabsolute%3Btop%3A0%3Bbottom%3A0%3Bright%3A0%3Bleft%3A0%3B%7D%3C/style%3E%0A%20%20%20%20%3Cscript%20src%3D%22https%3A//cdn.jsdelivr.net/npm/leaflet%401.6.0/dist/leaflet.js%22%3E%3C/script%3E%0A%20%20%20%20%3Cscript%20src%3D%22https%3A//code.jquery.com/jquery-1.12.4.min.js%22%3E%3C/script%3E%0A%20%20%20%20%3Cscript%20src%3D%22https%3A//maxcdn.bootstrapcdn.com/bootstrap/3.2.0/js/bootstrap.min.js%22%3E%3C/script%3E%0A%20%20%20%20%3Cscript%20src%3D%22https%3A//cdnjs.cloudflare.com/ajax/libs/Leaflet.awesome-markers/2.0.2/leaflet.awesome-markers.js%22%3E%3C/script%3E%0A%20%20%20%20%3Clink%20rel%3D%22stylesheet%22%20href%3D%22https%3A//cdn.jsdelivr.net/npm/leaflet%401.6.0/dist/leaflet.css%22/%3E%0A%20%20%20%20%3Clink%20rel%3D%22stylesheet%22%20href%3D%22https%3A//maxcdn.bootstrapcdn.com/bootstrap/3.2.0/css/bootstrap.min.css%22/%3E%0A%20%20%20%20%3Clink%20rel%3D%22stylesheet%22%20href%3D%22https%3A//maxcdn.bootstrapcdn.com/bootstrap/3.2.0/css/bootstrap-theme.min.css%22/%3E%0A%20%20%20%20%3Clink%20rel%3D%22stylesheet%22%20href%3D%22https%3A//maxcdn.bootstrapcdn.com/font-awesome/4.6.3/css/font-awesome.min.css%22/%3E%0A%20%20%20%20%3Clink%20rel%3D%22stylesheet%22%20href%3D%22https%3A//cdnjs.cloudflare.com/ajax/libs/Leaflet.awesome-markers/2.0.2/leaflet.awesome-markers.css%22/%3E%0A%20%20%20%20%3Clink%20rel%3D%22stylesheet%22%20href%3D%22https%3A//cdn.jsdelivr.net/gh/python-visualization/folium/folium/templates/leaflet.awesome.rotate.min.css%22/%3E%0A%20%20%20%20%0A%20%20%20%20%20%20%20%20%20%20%20%20%3Cmeta%20name%3D%22viewport%22%20content%3D%22width%3Ddevice-width%2C%0A%20%20%20%20%20%20%20%20%20%20%20%20%20%20%20%20initial-scale%3D1.0%2C%20maximum-scale%3D1.0%2C%20user-scalable%3Dno%22%20/%3E%0A%20%20%20%20%20%20%20%20%20%20%20%20%3Cstyle%3E%0A%20%20%20%20%20%20%20%20%20%20%20%20%20%20%20%20%23map_d2d35604701c4521a39b54cb6bffcc5a%20%7B%0A%20%20%20%20%20%20%20%20%20%20%20%20%20%20%20%20%20%20%20%20position%3A%20relative%3B%0A%20%20%20%20%20%20%20%20%20%20%20%20%20%20%20%20%20%20%20%20width%3A%20100.0%25%3B%0A%20%20%20%20%20%20%20%20%20%20%20%20%20%20%20%20%20%20%20%20height%3A%20100.0%25%3B%0A%20%20%20%20%20%20%20%20%20%20%20%20%20%20%20%20%20%20%20%20left%3A%200.0%25%3B%0A%20%20%20%20%20%20%20%20%20%20%20%20%20%20%20%20%20%20%20%20top%3A%200.0%25%3B%0A%20%20%20%20%20%20%20%20%20%20%20%20%20%20%20%20%7D%0A%20%20%20%20%20%20%20%20%20%20%20%20%3C/style%3E%0A%20%20%20%20%20%20%20%20%0A%3C/head%3E%0A%3Cbody%3E%20%20%20%20%0A%20%20%20%20%0A%20%20%20%20%20%20%20%20%20%20%20%20%3Cdiv%20class%3D%22folium-map%22%20id%3D%22map_d2d35604701c4521a39b54cb6bffcc5a%22%20%3E%3C/div%3E%0A%20%20%20%20%20%20%20%20%0A%3C/body%3E%0A%3Cscript%3E%20%20%20%20%0A%20%20%20%20%0A%20%20%20%20%20%20%20%20%20%20%20%20var%20map_d2d35604701c4521a39b54cb6bffcc5a%20%3D%20L.map%28%0A%20%20%20%20%20%20%20%20%20%20%20%20%20%20%20%20%22map_d2d35604701c4521a39b54cb6bffcc5a%22%2C%0A%20%20%20%20%20%20%20%20%20%20%20%20%20%20%20%20%7B%0A%20%20%20%20%20%20%20%20%20%20%20%20%20%20%20%20%20%20%20%20center%3A%20%5B37.4963839%2C%20126.8737607%5D%2C%0A%20%20%20%20%20%20%20%20%20%20%20%20%20%20%20%20%20%20%20%20crs%3A%20L.CRS.EPSG3857%2C%0A%20%20%20%20%20%20%20%20%20%20%20%20%20%20%20%20%20%20%20%20zoom%3A%2016%2C%0A%20%20%20%20%20%20%20%20%20%20%20%20%20%20%20%20%20%20%20%20zoomControl%3A%20true%2C%0A%20%20%20%20%20%20%20%20%20%20%20%20%20%20%20%20%20%20%20%20preferCanvas%3A%20false%2C%0A%20%20%20%20%20%20%20%20%20%20%20%20%20%20%20%20%7D%0A%20%20%20%20%20%20%20%20%20%20%20%20%29%3B%0A%0A%20%20%20%20%20%20%20%20%20%20%20%20%0A%0A%20%20%20%20%20%20%20%20%0A%20%20%20%20%0A%20%20%20%20%20%20%20%20%20%20%20%20var%20tile_layer_fd93c020f61c4335bb06cb7b79edc2b5%20%3D%20L.tileLayer%28%0A%20%20%20%20%20%20%20%20%20%20%20%20%20%20%20%20%22https%3A//%7Bs%7D.tile.openstreetmap.org/%7Bz%7D/%7Bx%7D/%7By%7D.png%22%2C%0A%20%20%20%20%20%20%20%20%20%20%20%20%20%20%20%20%7B%22attribution%22%3A%20%22Data%20by%20%5Cu0026copy%3B%20%5Cu003ca%20href%3D%5C%22http%3A//openstreetmap.org%5C%22%5Cu003eOpenStreetMap%5Cu003c/a%5Cu003e%2C%20under%20%5Cu003ca%20href%3D%5C%22http%3A//www.openstreetmap.org/copyright%5C%22%5Cu003eODbL%5Cu003c/a%5Cu003e.%22%2C%20%22detectRetina%22%3A%20false%2C%20%22maxNativeZoom%22%3A%2018%2C%20%22maxZoom%22%3A%2018%2C%20%22minZoom%22%3A%200%2C%20%22noWrap%22%3A%20false%2C%20%22opacity%22%3A%201%2C%20%22subdomains%22%3A%20%22abc%22%2C%20%22tms%22%3A%20false%7D%0A%20%20%20%20%20%20%20%20%20%20%20%20%29.addTo%28map_d2d35604701c4521a39b54cb6bffcc5a%29%3B%0A%20%20%20%20%20%20%20%20%0A%20%20%20%20%0A%20%20%20%20%20%20%20%20%20%20%20%20var%20marker_e6369a9c55a9426795f042a391033977%20%3D%20L.marker%28%0A%20%20%20%20%20%20%20%20%20%20%20%20%20%20%20%20%5B37.4963839%2C%20126.8737607%5D%2C%0A%20%20%20%20%20%20%20%20%20%20%20%20%20%20%20%20%7B%7D%0A%20%20%20%20%20%20%20%20%20%20%20%20%29.addTo%28map_d2d35604701c4521a39b54cb6bffcc5a%29%3B%0A%20%20%20%20%20%20%20%20%0A%20%20%20%20%0A%20%20%20%20%20%20%20%20var%20popup_3a3c6932fd9e4a07839fa209e53b5b5a%20%3D%20L.popup%28%7B%22maxWidth%22%3A%20%22100%25%22%7D%29%3B%0A%0A%20%20%20%20%20%20%20%20%0A%20%20%20%20%20%20%20%20%20%20%20%20var%20html_483262b18a674107ba91f3d19ce7009c%20%3D%20%24%28%60%3Cdiv%20id%3D%22html_483262b18a674107ba91f3d19ce7009c%22%20style%3D%22width%3A%20100.0%25%3B%20height%3A%20100.0%25%3B%22%3E%3Cpre%3E%EA%B5%AC%EB%A1%9C%ED%95%9C%EC%8B%A01%EC%B0%A8%3C/pre%3E%3C/div%3E%60%29%5B0%5D%3B%0A%20%20%20%20%20%20%20%20%20%20%20%20popup_3a3c6932fd9e4a07839fa209e53b5b5a.setContent%28html_483262b18a674107ba91f3d19ce7009c%29%3B%0A%20%20%20%20%20%20%20%20%0A%0A%20%20%20%20%20%20%20%20marker_e6369a9c55a9426795f042a391033977.bindPopup%28popup_3a3c6932fd9e4a07839fa209e53b5b5a%29%0A%20%20%20%20%20%20%20%20%3B%0A%0A%20%20%20%20%20%20%20%20%0A%20%20%20%20%0A%20%20%20%20%0A%20%20%20%20%20%20%20%20%20%20%20%20marker_e6369a9c55a9426795f042a391033977.bindTooltip%28%0A%20%20%20%20%20%20%20%20%20%20%20%20%20%20%20%20%60%3Cdiv%3E%0A%20%20%20%20%20%20%20%20%20%20%20%20%20%20%20%20%20%20%20%20%20%EA%B5%AC%EB%A1%9C%ED%95%9C%EC%8B%A01%EC%B0%A8%0A%20%20%20%20%20%20%20%20%20%20%20%20%20%20%20%20%20%3C/div%3E%60%2C%0A%20%20%20%20%20%20%20%20%20%20%20%20%20%20%20%20%7B%22sticky%22%3A%20true%7D%0A%20%20%20%20%20%20%20%20%20%20%20%20%29%3B%0A%20%20%20%20%20%20%20%20%0A%3C/script%3E onload=\"this.contentDocument.open();this.contentDocument.write(    decodeURIComponent(this.getAttribute('data-html')));this.contentDocument.close();\" allowfullscreen webkitallowfullscreen mozallowfullscreen></iframe></div></div>"
      ],
      "text/plain": [
       "<folium.folium.Map at 0x7f2f1bd80e50>"
      ]
     },
     "execution_count": 5,
     "metadata": {},
     "output_type": "execute_result"
    }
   ],
   "source": [
    "fmap = folium.Map(location=loc, zoom_start=16)  # zoom_start : ~18\n",
    "\n",
    "# 마커 표시\n",
    "popup = '<pre>' + find_apt + '</pre>'\n",
    "folium.Marker(loc, tooltip=find_apt, popup=popup).add_to(fmap)\n",
    "\n",
    "fmap"
   ]
  },
  {
   "cell_type": "code",
   "execution_count": 6,
   "id": "7ee5c780-8a76-4b99-a5df-7fd2aabca77a",
   "metadata": {},
   "outputs": [],
   "source": [
    "class CountByWGS84:    # WGS84 위경도 좌표 기반 데이터 집계 및 시각화\n",
    "\n",
    "    def __init__(self, df, lat, lon, dist=1):\n",
    "        \"\"\"\n",
    "        df: 데이터 프레임\n",
    "        lat: 중심 위도\n",
    "        lon: 중심 경도\n",
    "        dist: 기준 거리(km)\n",
    "        \"\"\"\n",
    "        self.df = df\n",
    "        self.lat = lat\n",
    "        self.lon = lon\n",
    "        self.dist = dist\n",
    "\n",
    "    def filter_by_rectangle(self):\n",
    "        \"\"\"\n",
    "        사각 범위 내 데이터 필터링\n",
    "        \"\"\"\n",
    "        \n",
    "        lat_min = self.lat - 0.01 * self.dist\n",
    "        lat_max = self.lat + 0.01 * self.dist\n",
    "\n",
    "        lon_min = self.lon - 0.015 * self.dist\n",
    "        lon_max = self.lon + 0.015 * self.dist\n",
    "        \n",
    "        self.points = [[lat_min, lon_min], [lat_max, lon_max]]\n",
    "        \n",
    "        result = self.df.loc[\n",
    "            (self.df['lat'] > lat_min) &\n",
    "            (self.df['lat'] < lat_max) &\n",
    "            (self.df['lon'] > lon_min) &\n",
    "            (self.df['lon'] < lon_max)\n",
    "        ]\n",
    "        result.index = range(len(result))\n",
    "\n",
    "        return result\n",
    "\n",
    "        \n",
    "    def filter_by_radius(self):\n",
    "        \"\"\"\n",
    "        반경 범위 내 데이터 필터링\n",
    "        \"\"\"\n",
    "        # 사각 범위 내 데이터 필터링\n",
    "        tmp = self.filter_by_rectangle()\n",
    "\n",
    "        # 기준 좌표 포인트\n",
    "        center = (self.lat, self.lon)\n",
    "\n",
    "        result = pd.DataFrame()\n",
    "        for index, row in tmp.iterrows():\n",
    "            # 개별 좌표 포인트\n",
    "            point = (row['lat'], row['lon'])\n",
    "            d = great_circle(center, point).kilometers\n",
    "            if d <= self.dist:\n",
    "                result = pd.concat([result, tmp.iloc[index, :].to_frame().T])\n",
    "\n",
    "        result.index = range(len(result))\n",
    "\n",
    "        return result\n",
    "\n",
    "    def plot_by_radius(self, df):\n",
    "        \"\"\"\n",
    "        반경 범위 내 데이터 플로팅\n",
    "        \"\"\"\n",
    "        for idx, row in df.iterrows():\n",
    "\n",
    "            lat_ = row['lat']\n",
    "            lon_ = row['lon']\n",
    "\n",
    "            folium.Marker(location=[lat_, lon_],\n",
    "                          radius=15,\n",
    "                          icon=folium.Icon(color='red', icon='train', icon_color='white', prefix='fa'), \n",
    "                          tooltip=row['역사명']).add_to(fmap)\n",
    "\n",
    "        folium.Circle(radius=dist * 1000,\n",
    "                      location=[lat, lon],\n",
    "                      color=\"#ff7800\",\n",
    "                      fill_color='#ffff00',\n",
    "                      fill_opacity=0.2\n",
    "                      ).add_to(fmap)\n",
    "\n",
    "        return fmap"
   ]
  },
  {
   "cell_type": "code",
   "execution_count": 7,
   "id": "0e88239a-5ebd-430d-9a6e-2a280baedce1",
   "metadata": {},
   "outputs": [
    {
     "data": {
      "text/html": [
       "<div>\n",
       "<style scoped>\n",
       "    .dataframe tbody tr th:only-of-type {\n",
       "        vertical-align: middle;\n",
       "    }\n",
       "\n",
       "    .dataframe tbody tr th {\n",
       "        vertical-align: top;\n",
       "    }\n",
       "\n",
       "    .dataframe thead th {\n",
       "        text-align: right;\n",
       "    }\n",
       "</style>\n",
       "<table border=\"1\" class=\"dataframe\">\n",
       "  <thead>\n",
       "    <tr style=\"text-align: right;\">\n",
       "      <th></th>\n",
       "      <th>역번호</th>\n",
       "      <th>역사명</th>\n",
       "      <th>노선번호</th>\n",
       "      <th>노선명</th>\n",
       "      <th>영문역사명</th>\n",
       "      <th>한자역사명</th>\n",
       "      <th>환승역구분</th>\n",
       "      <th>환승노선번호</th>\n",
       "      <th>환승노선명</th>\n",
       "      <th>lat</th>\n",
       "      <th>lon</th>\n",
       "      <th>운영기관명</th>\n",
       "      <th>역사도로명주소</th>\n",
       "      <th>역사전화번호</th>\n",
       "      <th>데이터기준일자</th>\n",
       "      <th>제공기관코드</th>\n",
       "      <th>제공기관명</th>\n",
       "    </tr>\n",
       "  </thead>\n",
       "  <tbody>\n",
       "    <tr>\n",
       "      <th>0</th>\n",
       "      <td>3122</td>\n",
       "      <td>부평삼거리</td>\n",
       "      <td>S2801</td>\n",
       "      <td>인천지하철 1호선</td>\n",
       "      <td>Bupyeongsamgeori</td>\n",
       "      <td>富平三거리</td>\n",
       "      <td>일반역</td>\n",
       "      <td>-</td>\n",
       "      <td>-</td>\n",
       "      <td>37.478267</td>\n",
       "      <td>126.710494</td>\n",
       "      <td>인천교통공사</td>\n",
       "      <td>인천광역시 부평구 경인로 765</td>\n",
       "      <td>032-516-3122</td>\n",
       "      <td>2020-11-30</td>\n",
       "      <td>B551894</td>\n",
       "      <td>인천교통공사</td>\n",
       "    </tr>\n",
       "  </tbody>\n",
       "</table>\n",
       "</div>"
      ],
      "text/plain": [
       "    역번호    역사명   노선번호        노선명             영문역사명  한자역사명 환승역구분 환승노선번호 환승노선명  \\\n",
       "0  3122  부평삼거리  S2801  인천지하철 1호선  Bupyeongsamgeori  富平三거리   일반역      -     -   \n",
       "\n",
       "         lat         lon   운영기관명            역사도로명주소        역사전화번호     데이터기준일자  \\\n",
       "0  37.478267  126.710494  인천교통공사  인천광역시 부평구 경인로 765  032-516-3122  2020-11-30   \n",
       "\n",
       "    제공기관코드   제공기관명  \n",
       "0  B551894  인천교통공사  "
      ]
     },
     "execution_count": 7,
     "metadata": {},
     "output_type": "execute_result"
    }
   ],
   "source": [
    "subway = pd.read_csv('data/subway.csv', sep=',', encoding='euc-kr')\n",
    "subway = subway.rename(columns={'역위도': 'lat', '역경도': 'lon'})\n",
    "subway.index = range(len(subway))\n",
    "subway.head(1)"
   ]
  },
  {
   "cell_type": "code",
   "execution_count": 8,
   "id": "2b2ce64b-6248-4c33-8c11-9101a7dc3f63",
   "metadata": {},
   "outputs": [],
   "source": [
    "dist = 0.5           # 반경 설정 (단위 : km )\n",
    "df = subway\n",
    "\n",
    "# 반경 집계 인스턴스 생성\n",
    "cbw = CountByWGS84(df, lat, lon, dist)\n",
    "\n",
    "# 사각 범위 내 데이터 필터링\n",
    "result_rectangle = cbw.filter_by_rectangle()\n",
    "\n",
    "# 반경 범위 내 데이터 필터링\n",
    "result_radius = cbw.filter_by_radius()"
   ]
  },
  {
   "cell_type": "code",
   "execution_count": 9,
   "id": "1dd64677-8a98-4051-936f-77628d3e2407",
   "metadata": {},
   "outputs": [
    {
     "data": {
      "text/html": [
       "<div style=\"width:100%;\"><div style=\"position:relative;width:100%;height:0;padding-bottom:60%;\"><span style=\"color:#565656\">Make this Notebook Trusted to load map: File -> Trust Notebook</span><iframe src=\"about:blank\" style=\"position:absolute;width:100%;height:100%;left:0;top:0;border:none !important;\" data-html=%3C%21DOCTYPE%20html%3E%0A%3Chead%3E%20%20%20%20%0A%20%20%20%20%3Cmeta%20http-equiv%3D%22content-type%22%20content%3D%22text/html%3B%20charset%3DUTF-8%22%20/%3E%0A%20%20%20%20%0A%20%20%20%20%20%20%20%20%3Cscript%3E%0A%20%20%20%20%20%20%20%20%20%20%20%20L_NO_TOUCH%20%3D%20false%3B%0A%20%20%20%20%20%20%20%20%20%20%20%20L_DISABLE_3D%20%3D%20false%3B%0A%20%20%20%20%20%20%20%20%3C/script%3E%0A%20%20%20%20%0A%20%20%20%20%3Cstyle%3Ehtml%2C%20body%20%7Bwidth%3A%20100%25%3Bheight%3A%20100%25%3Bmargin%3A%200%3Bpadding%3A%200%3B%7D%3C/style%3E%0A%20%20%20%20%3Cstyle%3E%23map%20%7Bposition%3Aabsolute%3Btop%3A0%3Bbottom%3A0%3Bright%3A0%3Bleft%3A0%3B%7D%3C/style%3E%0A%20%20%20%20%3Cscript%20src%3D%22https%3A//cdn.jsdelivr.net/npm/leaflet%401.6.0/dist/leaflet.js%22%3E%3C/script%3E%0A%20%20%20%20%3Cscript%20src%3D%22https%3A//code.jquery.com/jquery-1.12.4.min.js%22%3E%3C/script%3E%0A%20%20%20%20%3Cscript%20src%3D%22https%3A//maxcdn.bootstrapcdn.com/bootstrap/3.2.0/js/bootstrap.min.js%22%3E%3C/script%3E%0A%20%20%20%20%3Cscript%20src%3D%22https%3A//cdnjs.cloudflare.com/ajax/libs/Leaflet.awesome-markers/2.0.2/leaflet.awesome-markers.js%22%3E%3C/script%3E%0A%20%20%20%20%3Clink%20rel%3D%22stylesheet%22%20href%3D%22https%3A//cdn.jsdelivr.net/npm/leaflet%401.6.0/dist/leaflet.css%22/%3E%0A%20%20%20%20%3Clink%20rel%3D%22stylesheet%22%20href%3D%22https%3A//maxcdn.bootstrapcdn.com/bootstrap/3.2.0/css/bootstrap.min.css%22/%3E%0A%20%20%20%20%3Clink%20rel%3D%22stylesheet%22%20href%3D%22https%3A//maxcdn.bootstrapcdn.com/bootstrap/3.2.0/css/bootstrap-theme.min.css%22/%3E%0A%20%20%20%20%3Clink%20rel%3D%22stylesheet%22%20href%3D%22https%3A//maxcdn.bootstrapcdn.com/font-awesome/4.6.3/css/font-awesome.min.css%22/%3E%0A%20%20%20%20%3Clink%20rel%3D%22stylesheet%22%20href%3D%22https%3A//cdnjs.cloudflare.com/ajax/libs/Leaflet.awesome-markers/2.0.2/leaflet.awesome-markers.css%22/%3E%0A%20%20%20%20%3Clink%20rel%3D%22stylesheet%22%20href%3D%22https%3A//cdn.jsdelivr.net/gh/python-visualization/folium/folium/templates/leaflet.awesome.rotate.min.css%22/%3E%0A%20%20%20%20%0A%20%20%20%20%20%20%20%20%20%20%20%20%3Cmeta%20name%3D%22viewport%22%20content%3D%22width%3Ddevice-width%2C%0A%20%20%20%20%20%20%20%20%20%20%20%20%20%20%20%20initial-scale%3D1.0%2C%20maximum-scale%3D1.0%2C%20user-scalable%3Dno%22%20/%3E%0A%20%20%20%20%20%20%20%20%20%20%20%20%3Cstyle%3E%0A%20%20%20%20%20%20%20%20%20%20%20%20%20%20%20%20%23map_d2d35604701c4521a39b54cb6bffcc5a%20%7B%0A%20%20%20%20%20%20%20%20%20%20%20%20%20%20%20%20%20%20%20%20position%3A%20relative%3B%0A%20%20%20%20%20%20%20%20%20%20%20%20%20%20%20%20%20%20%20%20width%3A%20100.0%25%3B%0A%20%20%20%20%20%20%20%20%20%20%20%20%20%20%20%20%20%20%20%20height%3A%20100.0%25%3B%0A%20%20%20%20%20%20%20%20%20%20%20%20%20%20%20%20%20%20%20%20left%3A%200.0%25%3B%0A%20%20%20%20%20%20%20%20%20%20%20%20%20%20%20%20%20%20%20%20top%3A%200.0%25%3B%0A%20%20%20%20%20%20%20%20%20%20%20%20%20%20%20%20%7D%0A%20%20%20%20%20%20%20%20%20%20%20%20%3C/style%3E%0A%20%20%20%20%20%20%20%20%0A%3C/head%3E%0A%3Cbody%3E%20%20%20%20%0A%20%20%20%20%0A%20%20%20%20%20%20%20%20%20%20%20%20%3Cdiv%20class%3D%22folium-map%22%20id%3D%22map_d2d35604701c4521a39b54cb6bffcc5a%22%20%3E%3C/div%3E%0A%20%20%20%20%20%20%20%20%0A%3C/body%3E%0A%3Cscript%3E%20%20%20%20%0A%20%20%20%20%0A%20%20%20%20%20%20%20%20%20%20%20%20var%20map_d2d35604701c4521a39b54cb6bffcc5a%20%3D%20L.map%28%0A%20%20%20%20%20%20%20%20%20%20%20%20%20%20%20%20%22map_d2d35604701c4521a39b54cb6bffcc5a%22%2C%0A%20%20%20%20%20%20%20%20%20%20%20%20%20%20%20%20%7B%0A%20%20%20%20%20%20%20%20%20%20%20%20%20%20%20%20%20%20%20%20center%3A%20%5B37.4963839%2C%20126.8737607%5D%2C%0A%20%20%20%20%20%20%20%20%20%20%20%20%20%20%20%20%20%20%20%20crs%3A%20L.CRS.EPSG3857%2C%0A%20%20%20%20%20%20%20%20%20%20%20%20%20%20%20%20%20%20%20%20zoom%3A%2016%2C%0A%20%20%20%20%20%20%20%20%20%20%20%20%20%20%20%20%20%20%20%20zoomControl%3A%20true%2C%0A%20%20%20%20%20%20%20%20%20%20%20%20%20%20%20%20%20%20%20%20preferCanvas%3A%20false%2C%0A%20%20%20%20%20%20%20%20%20%20%20%20%20%20%20%20%7D%0A%20%20%20%20%20%20%20%20%20%20%20%20%29%3B%0A%0A%20%20%20%20%20%20%20%20%20%20%20%20%0A%0A%20%20%20%20%20%20%20%20%0A%20%20%20%20%0A%20%20%20%20%20%20%20%20%20%20%20%20var%20tile_layer_fd93c020f61c4335bb06cb7b79edc2b5%20%3D%20L.tileLayer%28%0A%20%20%20%20%20%20%20%20%20%20%20%20%20%20%20%20%22https%3A//%7Bs%7D.tile.openstreetmap.org/%7Bz%7D/%7Bx%7D/%7By%7D.png%22%2C%0A%20%20%20%20%20%20%20%20%20%20%20%20%20%20%20%20%7B%22attribution%22%3A%20%22Data%20by%20%5Cu0026copy%3B%20%5Cu003ca%20href%3D%5C%22http%3A//openstreetmap.org%5C%22%5Cu003eOpenStreetMap%5Cu003c/a%5Cu003e%2C%20under%20%5Cu003ca%20href%3D%5C%22http%3A//www.openstreetmap.org/copyright%5C%22%5Cu003eODbL%5Cu003c/a%5Cu003e.%22%2C%20%22detectRetina%22%3A%20false%2C%20%22maxNativeZoom%22%3A%2018%2C%20%22maxZoom%22%3A%2018%2C%20%22minZoom%22%3A%200%2C%20%22noWrap%22%3A%20false%2C%20%22opacity%22%3A%201%2C%20%22subdomains%22%3A%20%22abc%22%2C%20%22tms%22%3A%20false%7D%0A%20%20%20%20%20%20%20%20%20%20%20%20%29.addTo%28map_d2d35604701c4521a39b54cb6bffcc5a%29%3B%0A%20%20%20%20%20%20%20%20%0A%20%20%20%20%0A%20%20%20%20%20%20%20%20%20%20%20%20var%20marker_e6369a9c55a9426795f042a391033977%20%3D%20L.marker%28%0A%20%20%20%20%20%20%20%20%20%20%20%20%20%20%20%20%5B37.4963839%2C%20126.8737607%5D%2C%0A%20%20%20%20%20%20%20%20%20%20%20%20%20%20%20%20%7B%7D%0A%20%20%20%20%20%20%20%20%20%20%20%20%29.addTo%28map_d2d35604701c4521a39b54cb6bffcc5a%29%3B%0A%20%20%20%20%20%20%20%20%0A%20%20%20%20%0A%20%20%20%20%20%20%20%20var%20popup_3a3c6932fd9e4a07839fa209e53b5b5a%20%3D%20L.popup%28%7B%22maxWidth%22%3A%20%22100%25%22%7D%29%3B%0A%0A%20%20%20%20%20%20%20%20%0A%20%20%20%20%20%20%20%20%20%20%20%20var%20html_483262b18a674107ba91f3d19ce7009c%20%3D%20%24%28%60%3Cdiv%20id%3D%22html_483262b18a674107ba91f3d19ce7009c%22%20style%3D%22width%3A%20100.0%25%3B%20height%3A%20100.0%25%3B%22%3E%3Cpre%3E%EA%B5%AC%EB%A1%9C%ED%95%9C%EC%8B%A01%EC%B0%A8%3C/pre%3E%3C/div%3E%60%29%5B0%5D%3B%0A%20%20%20%20%20%20%20%20%20%20%20%20popup_3a3c6932fd9e4a07839fa209e53b5b5a.setContent%28html_483262b18a674107ba91f3d19ce7009c%29%3B%0A%20%20%20%20%20%20%20%20%0A%0A%20%20%20%20%20%20%20%20marker_e6369a9c55a9426795f042a391033977.bindPopup%28popup_3a3c6932fd9e4a07839fa209e53b5b5a%29%0A%20%20%20%20%20%20%20%20%3B%0A%0A%20%20%20%20%20%20%20%20%0A%20%20%20%20%0A%20%20%20%20%0A%20%20%20%20%20%20%20%20%20%20%20%20marker_e6369a9c55a9426795f042a391033977.bindTooltip%28%0A%20%20%20%20%20%20%20%20%20%20%20%20%20%20%20%20%60%3Cdiv%3E%0A%20%20%20%20%20%20%20%20%20%20%20%20%20%20%20%20%20%20%20%20%20%EA%B5%AC%EB%A1%9C%ED%95%9C%EC%8B%A01%EC%B0%A8%0A%20%20%20%20%20%20%20%20%20%20%20%20%20%20%20%20%20%3C/div%3E%60%2C%0A%20%20%20%20%20%20%20%20%20%20%20%20%20%20%20%20%7B%22sticky%22%3A%20true%7D%0A%20%20%20%20%20%20%20%20%20%20%20%20%29%3B%0A%20%20%20%20%20%20%20%20%0A%20%20%20%20%0A%20%20%20%20%20%20%20%20%20%20%20%20var%20marker_2197d971a4ed48ac8e3fc6525a0da0dc%20%3D%20L.marker%28%0A%20%20%20%20%20%20%20%20%20%20%20%20%20%20%20%20%5B37.496273%2C%20126.869599%5D%2C%0A%20%20%20%20%20%20%20%20%20%20%20%20%20%20%20%20%7B%22radius%22%3A%2015%7D%0A%20%20%20%20%20%20%20%20%20%20%20%20%29.addTo%28map_d2d35604701c4521a39b54cb6bffcc5a%29%3B%0A%20%20%20%20%20%20%20%20%0A%20%20%20%20%0A%20%20%20%20%20%20%20%20%20%20%20%20var%20icon_f4f371d8053140ada35ac516ef83cc79%20%3D%20L.AwesomeMarkers.icon%28%0A%20%20%20%20%20%20%20%20%20%20%20%20%20%20%20%20%7B%22extraClasses%22%3A%20%22fa-rotate-0%22%2C%20%22icon%22%3A%20%22train%22%2C%20%22iconColor%22%3A%20%22white%22%2C%20%22markerColor%22%3A%20%22red%22%2C%20%22prefix%22%3A%20%22fa%22%7D%0A%20%20%20%20%20%20%20%20%20%20%20%20%29%3B%0A%20%20%20%20%20%20%20%20%20%20%20%20marker_2197d971a4ed48ac8e3fc6525a0da0dc.setIcon%28icon_f4f371d8053140ada35ac516ef83cc79%29%3B%0A%20%20%20%20%20%20%20%20%0A%20%20%20%20%0A%20%20%20%20%20%20%20%20%20%20%20%20marker_2197d971a4ed48ac8e3fc6525a0da0dc.bindTooltip%28%0A%20%20%20%20%20%20%20%20%20%20%20%20%20%20%20%20%60%3Cdiv%3E%0A%20%20%20%20%20%20%20%20%20%20%20%20%20%20%20%20%20%20%20%20%20%EA%B5%AC%EC%9D%BC%EC%97%AD%0A%20%20%20%20%20%20%20%20%20%20%20%20%20%20%20%20%20%3C/div%3E%60%2C%0A%20%20%20%20%20%20%20%20%20%20%20%20%20%20%20%20%7B%22sticky%22%3A%20true%7D%0A%20%20%20%20%20%20%20%20%20%20%20%20%29%3B%0A%20%20%20%20%20%20%20%20%0A%20%20%20%20%0A%20%20%20%20%20%20%20%20%20%20%20%20var%20circle_34cdcb0f82d6477483da392bcdbc3604%20%3D%20L.circle%28%0A%20%20%20%20%20%20%20%20%20%20%20%20%20%20%20%20%5B37.4963839%2C%20126.8737607%5D%2C%0A%20%20%20%20%20%20%20%20%20%20%20%20%20%20%20%20%7B%22bubblingMouseEvents%22%3A%20true%2C%20%22color%22%3A%20%22%23ff7800%22%2C%20%22dashArray%22%3A%20null%2C%20%22dashOffset%22%3A%20null%2C%20%22fill%22%3A%20true%2C%20%22fillColor%22%3A%20%22%23ffff00%22%2C%20%22fillOpacity%22%3A%200.2%2C%20%22fillRule%22%3A%20%22evenodd%22%2C%20%22lineCap%22%3A%20%22round%22%2C%20%22lineJoin%22%3A%20%22round%22%2C%20%22opacity%22%3A%201.0%2C%20%22radius%22%3A%20500.0%2C%20%22stroke%22%3A%20true%2C%20%22weight%22%3A%203%7D%0A%20%20%20%20%20%20%20%20%20%20%20%20%29.addTo%28map_d2d35604701c4521a39b54cb6bffcc5a%29%3B%0A%20%20%20%20%20%20%20%20%0A%3C/script%3E onload=\"this.contentDocument.open();this.contentDocument.write(    decodeURIComponent(this.getAttribute('data-html')));this.contentDocument.close();\" allowfullscreen webkitallowfullscreen mozallowfullscreen></iframe></div></div>"
      ],
      "text/plain": [
       "<folium.folium.Map at 0x7f2f1bd80e50>"
      ]
     },
     "execution_count": 9,
     "metadata": {},
     "output_type": "execute_result"
    }
   ],
   "source": [
    "map = cbw.plot_by_radius(result_radius)\n",
    "map"
   ]
  },
  {
   "cell_type": "code",
   "execution_count": 10,
   "id": "f4fb9f53-babc-4374-9d76-88b9a0196a21",
   "metadata": {},
   "outputs": [],
   "source": [
    "map.save('maps/map.html')"
   ]
  },
  {
   "cell_type": "code",
   "execution_count": null,
   "id": "40ff5586-5c47-4dfa-8fd0-5179f50bf8e4",
   "metadata": {},
   "outputs": [],
   "source": []
  },
  {
   "cell_type": "code",
   "execution_count": null,
   "id": "c52c9566-57e7-44cd-8b6f-485c67be01b3",
   "metadata": {},
   "outputs": [],
   "source": []
  },
  {
   "cell_type": "code",
   "execution_count": null,
   "id": "b896b018-ee90-4f70-a167-3c807496b7c9",
   "metadata": {},
   "outputs": [],
   "source": []
  },
  {
   "cell_type": "code",
   "execution_count": null,
   "id": "f95bcecf-4863-4789-8c56-73bb1ee1626f",
   "metadata": {},
   "outputs": [],
   "source": []
  }
 ],
 "metadata": {
  "kernelspec": {
   "display_name": "Python 3 (ipykernel)",
   "language": "python",
   "name": "python3"
  },
  "language_info": {
   "codemirror_mode": {
    "name": "ipython",
    "version": 3
   },
   "file_extension": ".py",
   "mimetype": "text/x-python",
   "name": "python",
   "nbconvert_exporter": "python",
   "pygments_lexer": "ipython3",
   "version": "3.8.12"
  }
 },
 "nbformat": 4,
 "nbformat_minor": 5
}
